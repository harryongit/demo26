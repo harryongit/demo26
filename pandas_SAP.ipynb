{
 "cells": [
  {
   "cell_type": "code",
   "execution_count": 47,
   "id": "b391c253",
   "metadata": {},
   "outputs": [],
   "source": [
    "import pandas as pd"
   ]
  },
  {
   "cell_type": "code",
   "execution_count": 48,
   "id": "701241e2",
   "metadata": {},
   "outputs": [],
   "source": [
    "import numpy as np"
   ]
  },
  {
   "cell_type": "code",
   "execution_count": 49,
   "id": "582bbdbf",
   "metadata": {},
   "outputs": [
    {
     "name": "stdout",
     "output_type": "stream",
     "text": [
      "Series([], dtype: float64)\n",
      "0    g\n",
      "1    e\n",
      "2    e\n",
      "3    k\n",
      "4    s\n",
      "dtype: object\n"
     ]
    },
    {
     "name": "stderr",
     "output_type": "stream",
     "text": [
      "C:\\Users\\Admin\\AppData\\Local\\Temp\\ipykernel_4040\\2297544735.py:2: FutureWarning: The default dtype for empty Series will be 'object' instead of 'float64' in a future version. Specify a dtype explicitly to silence this warning.\n",
      "  ser = pd.Series()\n"
     ]
    }
   ],
   "source": [
    "# Creating empty series. \n",
    "ser = pd.Series()\n",
    "print(ser)\n",
    "# simple array\n",
    "data = np.array(['g', 'e', 'e', 'k', 's'])\n",
    "ser = pd.Series(data) \n",
    "print(ser)"
   ]
  },
  {
   "cell_type": "code",
   "execution_count": 50,
   "id": "2fc70828",
   "metadata": {},
   "outputs": [],
   "source": [
    "df=pd.read_csv(\"imdb_data.csv\")\n",
    "# print(type(df))\n",
    "# print(df.head(10))\n",
    "# print(df.tail(5))\n",
    "# print(df.info())\n",
    "# print(df.columns)"
   ]
  },
  {
   "cell_type": "code",
   "execution_count": 51,
   "id": "44ed4a66",
   "metadata": {},
   "outputs": [
    {
     "data": {
      "text/plain": [
       "0                          [{'id': 35, 'name': 'Comedy'}]\n",
       "1       [{'id': 35, 'name': 'Comedy'}, {'id': 18, 'nam...\n",
       "2                           [{'id': 18, 'name': 'Drama'}]\n",
       "3       [{'id': 53, 'name': 'Thriller'}, {'id': 18, 'n...\n",
       "4       [{'id': 28, 'name': 'Action'}, {'id': 53, 'nam...\n",
       "                              ...                        \n",
       "2995    [{'id': 35, 'name': 'Comedy'}, {'id': 10749, '...\n",
       "2996    [{'id': 18, 'name': 'Drama'}, {'id': 10402, 'n...\n",
       "2997    [{'id': 80, 'name': 'Crime'}, {'id': 28, 'name...\n",
       "2998    [{'id': 35, 'name': 'Comedy'}, {'id': 10749, '...\n",
       "2999    [{'id': 53, 'name': 'Thriller'}, {'id': 28, 'n...\n",
       "Name: genres, Length: 2993, dtype: object"
      ]
     },
     "execution_count": 51,
     "metadata": {},
     "output_type": "execute_result"
    }
   ],
   "source": [
    "#keeping wanted data columns\n",
    "columns_to_keep= ['budget', 'genres','original_language', 'original_title','cast', 'crew', 'revenue']\n",
    "\n",
    "#find all the row indexes for which genres is not null\n",
    "df.loc[~df['genres'].isna(),'genres']"
   ]
  },
  {
   "cell_type": "code",
   "execution_count": 52,
   "id": "dea87bbd",
   "metadata": {},
   "outputs": [
    {
     "data": {
      "text/plain": [
       "str"
      ]
     },
     "execution_count": 52,
     "metadata": {},
     "output_type": "execute_result"
    }
   ],
   "source": [
    "type(df.loc[0,'cast'])"
   ]
  },
  {
   "cell_type": "code",
   "execution_count": 53,
   "id": "f562ead2",
   "metadata": {},
   "outputs": [],
   "source": [
    "def convert_to_list(str):\n",
    "  return eval(str)"
   ]
  },
  {
   "cell_type": "code",
   "execution_count": 54,
   "id": "efeb1c0b",
   "metadata": {},
   "outputs": [],
   "source": [
    "\n",
    "#apply the above function only on non null values in genres column\n",
    "df.loc[~df['genres'].isna(),'genres']= df.loc[~df['genres'].isna(),'genres'].apply(convert_to_list)\n",
    "\n",
    "\n",
    "#apply the above function only on non null values in crew column\n",
    "df.loc[~df['crew'].isna(),'crew']= df.loc[~df['crew'].isna(),'crew'].apply(convert_to_list)\n",
    "\n",
    "\n",
    "#apply the above function only on non null values in cast column\n",
    "df.loc[~df['cast'].isna(),'cast']= df.loc[~df['cast'].isna(),'cast'].apply(convert_to_list)\n"
   ]
  },
  {
   "cell_type": "code",
   "execution_count": 55,
   "id": "b3a18d3c",
   "metadata": {},
   "outputs": [],
   "source": [
    "#creating a copy of orginal df\n",
    "df_new = df.copy()"
   ]
  },
  {
   "cell_type": "code",
   "execution_count": 56,
   "id": "b685fac5",
   "metadata": {},
   "outputs": [
    {
     "data": {
      "text/html": [
       "<div>\n",
       "<style scoped>\n",
       "    .dataframe tbody tr th:only-of-type {\n",
       "        vertical-align: middle;\n",
       "    }\n",
       "\n",
       "    .dataframe tbody tr th {\n",
       "        vertical-align: top;\n",
       "    }\n",
       "\n",
       "    .dataframe thead th {\n",
       "        text-align: right;\n",
       "    }\n",
       "</style>\n",
       "<table border=\"1\" class=\"dataframe\">\n",
       "  <thead>\n",
       "    <tr style=\"text-align: right;\">\n",
       "      <th></th>\n",
       "      <th>id</th>\n",
       "      <th>belongs_to_collection</th>\n",
       "      <th>budget</th>\n",
       "      <th>genres</th>\n",
       "      <th>homepage</th>\n",
       "      <th>imdb_id</th>\n",
       "      <th>original_language</th>\n",
       "      <th>original_title</th>\n",
       "      <th>overview</th>\n",
       "      <th>popularity</th>\n",
       "      <th>...</th>\n",
       "      <th>release_date</th>\n",
       "      <th>runtime</th>\n",
       "      <th>spoken_languages</th>\n",
       "      <th>status</th>\n",
       "      <th>tagline</th>\n",
       "      <th>title</th>\n",
       "      <th>Keywords</th>\n",
       "      <th>cast</th>\n",
       "      <th>crew</th>\n",
       "      <th>revenue</th>\n",
       "    </tr>\n",
       "  </thead>\n",
       "  <tbody>\n",
       "    <tr>\n",
       "      <th>0</th>\n",
       "      <td>1</td>\n",
       "      <td>[{'id': 313576, 'name': 'Hot Tub Time Machine ...</td>\n",
       "      <td>14000000</td>\n",
       "      <td>[{'id': 35, 'name': 'Comedy'}]</td>\n",
       "      <td>NaN</td>\n",
       "      <td>tt2637294</td>\n",
       "      <td>en</td>\n",
       "      <td>Hot Tub Time Machine 2</td>\n",
       "      <td>When Lou, who has become the \"father of the In...</td>\n",
       "      <td>6.575393</td>\n",
       "      <td>...</td>\n",
       "      <td>2/20/15</td>\n",
       "      <td>93.0</td>\n",
       "      <td>[{'iso_639_1': 'en', 'name': 'English'}]</td>\n",
       "      <td>Released</td>\n",
       "      <td>The Laws of Space and Time are About to be Vio...</td>\n",
       "      <td>Hot Tub Time Machine 2</td>\n",
       "      <td>[{'id': 4379, 'name': 'time travel'}, {'id': 9...</td>\n",
       "      <td>[{'cast_id': 4, 'character': 'Lou', 'credit_id...</td>\n",
       "      <td>[{'credit_id': '59ac067c92514107af02c8c8', 'de...</td>\n",
       "      <td>12314651</td>\n",
       "    </tr>\n",
       "    <tr>\n",
       "      <th>1</th>\n",
       "      <td>2</td>\n",
       "      <td>[{'id': 107674, 'name': 'The Princess Diaries ...</td>\n",
       "      <td>40000000</td>\n",
       "      <td>[{'id': 35, 'name': 'Comedy'}, {'id': 18, 'nam...</td>\n",
       "      <td>NaN</td>\n",
       "      <td>tt0368933</td>\n",
       "      <td>en</td>\n",
       "      <td>The Princess Diaries 2: Royal Engagement</td>\n",
       "      <td>Mia Thermopolis is now a college graduate and ...</td>\n",
       "      <td>8.248895</td>\n",
       "      <td>...</td>\n",
       "      <td>8/6/04</td>\n",
       "      <td>113.0</td>\n",
       "      <td>[{'iso_639_1': 'en', 'name': 'English'}]</td>\n",
       "      <td>Released</td>\n",
       "      <td>It can take a lifetime to find true love; she'...</td>\n",
       "      <td>The Princess Diaries 2: Royal Engagement</td>\n",
       "      <td>[{'id': 2505, 'name': 'coronation'}, {'id': 42...</td>\n",
       "      <td>[{'cast_id': 1, 'character': 'Mia Thermopolis'...</td>\n",
       "      <td>[{'credit_id': '52fe43fe9251416c7502563d', 'de...</td>\n",
       "      <td>95149435</td>\n",
       "    </tr>\n",
       "  </tbody>\n",
       "</table>\n",
       "<p>2 rows × 23 columns</p>\n",
       "</div>"
      ],
      "text/plain": [
       "   id                              belongs_to_collection    budget  \\\n",
       "0   1  [{'id': 313576, 'name': 'Hot Tub Time Machine ...  14000000   \n",
       "1   2  [{'id': 107674, 'name': 'The Princess Diaries ...  40000000   \n",
       "\n",
       "                                              genres homepage    imdb_id  \\\n",
       "0                     [{'id': 35, 'name': 'Comedy'}]      NaN  tt2637294   \n",
       "1  [{'id': 35, 'name': 'Comedy'}, {'id': 18, 'nam...      NaN  tt0368933   \n",
       "\n",
       "  original_language                            original_title  \\\n",
       "0                en                    Hot Tub Time Machine 2   \n",
       "1                en  The Princess Diaries 2: Royal Engagement   \n",
       "\n",
       "                                            overview  popularity  ...  \\\n",
       "0  When Lou, who has become the \"father of the In...    6.575393  ...   \n",
       "1  Mia Thermopolis is now a college graduate and ...    8.248895  ...   \n",
       "\n",
       "  release_date runtime                          spoken_languages    status  \\\n",
       "0      2/20/15    93.0  [{'iso_639_1': 'en', 'name': 'English'}]  Released   \n",
       "1       8/6/04   113.0  [{'iso_639_1': 'en', 'name': 'English'}]  Released   \n",
       "\n",
       "                                             tagline  \\\n",
       "0  The Laws of Space and Time are About to be Vio...   \n",
       "1  It can take a lifetime to find true love; she'...   \n",
       "\n",
       "                                      title  \\\n",
       "0                    Hot Tub Time Machine 2   \n",
       "1  The Princess Diaries 2: Royal Engagement   \n",
       "\n",
       "                                            Keywords  \\\n",
       "0  [{'id': 4379, 'name': 'time travel'}, {'id': 9...   \n",
       "1  [{'id': 2505, 'name': 'coronation'}, {'id': 42...   \n",
       "\n",
       "                                                cast  \\\n",
       "0  [{'cast_id': 4, 'character': 'Lou', 'credit_id...   \n",
       "1  [{'cast_id': 1, 'character': 'Mia Thermopolis'...   \n",
       "\n",
       "                                                crew   revenue  \n",
       "0  [{'credit_id': '59ac067c92514107af02c8c8', 'de...  12314651  \n",
       "1  [{'credit_id': '52fe43fe9251416c7502563d', 'de...  95149435  \n",
       "\n",
       "[2 rows x 23 columns]"
      ]
     },
     "execution_count": 56,
     "metadata": {},
     "output_type": "execute_result"
    }
   ],
   "source": [
    "df_new.head(2)"
   ]
  },
  {
   "cell_type": "code",
   "execution_count": 58,
   "id": "d15ea975",
   "metadata": {},
   "outputs": [
    {
     "data": {
      "text/html": [
       "<div>\n",
       "<style scoped>\n",
       "    .dataframe tbody tr th:only-of-type {\n",
       "        vertical-align: middle;\n",
       "    }\n",
       "\n",
       "    .dataframe tbody tr th {\n",
       "        vertical-align: top;\n",
       "    }\n",
       "\n",
       "    .dataframe thead th {\n",
       "        text-align: right;\n",
       "    }\n",
       "</style>\n",
       "<table border=\"1\" class=\"dataframe\">\n",
       "  <thead>\n",
       "    <tr style=\"text-align: right;\">\n",
       "      <th></th>\n",
       "      <th>id</th>\n",
       "      <th>belongs_to_collection</th>\n",
       "      <th>budget</th>\n",
       "      <th>genres</th>\n",
       "      <th>homepage</th>\n",
       "      <th>imdb_id</th>\n",
       "      <th>original_language</th>\n",
       "      <th>original_title</th>\n",
       "      <th>overview</th>\n",
       "      <th>popularity</th>\n",
       "      <th>...</th>\n",
       "      <th>release_date</th>\n",
       "      <th>runtime</th>\n",
       "      <th>spoken_languages</th>\n",
       "      <th>status</th>\n",
       "      <th>tagline</th>\n",
       "      <th>title</th>\n",
       "      <th>Keywords</th>\n",
       "      <th>cast</th>\n",
       "      <th>crew</th>\n",
       "      <th>revenue</th>\n",
       "    </tr>\n",
       "  </thead>\n",
       "  <tbody>\n",
       "    <tr>\n",
       "      <th>4</th>\n",
       "      <td>5</td>\n",
       "      <td>NaN</td>\n",
       "      <td>0</td>\n",
       "      <td>[{'id': 28, 'name': 'Action'}, {'id': 53, 'nam...</td>\n",
       "      <td>NaN</td>\n",
       "      <td>tt1380152</td>\n",
       "      <td>ko</td>\n",
       "      <td>마린보이</td>\n",
       "      <td>Marine Boy is the story of a former national s...</td>\n",
       "      <td>1.148070</td>\n",
       "      <td>...</td>\n",
       "      <td>2/5/09</td>\n",
       "      <td>118.0</td>\n",
       "      <td>[{'iso_639_1': 'ko', 'name': '한국어/조선말'}]</td>\n",
       "      <td>Released</td>\n",
       "      <td>NaN</td>\n",
       "      <td>Marine Boy</td>\n",
       "      <td>NaN</td>\n",
       "      <td>[{'cast_id': 3, 'character': 'Chun-soo', 'cred...</td>\n",
       "      <td>[{'credit_id': '52fe464b9251416c75073b43', 'de...</td>\n",
       "      <td>3923970</td>\n",
       "    </tr>\n",
       "    <tr>\n",
       "      <th>7</th>\n",
       "      <td>8</td>\n",
       "      <td>NaN</td>\n",
       "      <td>0</td>\n",
       "      <td>[{'id': 99, 'name': 'Documentary'}]</td>\n",
       "      <td>NaN</td>\n",
       "      <td>tt0391024</td>\n",
       "      <td>en</td>\n",
       "      <td>Control Room</td>\n",
       "      <td>A chronicle which provides a rare window into ...</td>\n",
       "      <td>1.949044</td>\n",
       "      <td>...</td>\n",
       "      <td>1/15/04</td>\n",
       "      <td>84.0</td>\n",
       "      <td>[{'iso_639_1': 'ar', 'name': 'العربية'}, {'iso...</td>\n",
       "      <td>Released</td>\n",
       "      <td>Different channels. Different truths.</td>\n",
       "      <td>Control Room</td>\n",
       "      <td>[{'id': 917, 'name': 'journalism'}, {'id': 163...</td>\n",
       "      <td>[{'cast_id': 2, 'character': 'Himself', 'credi...</td>\n",
       "      <td>[{'credit_id': '52fe47a69251416c750a0daf', 'de...</td>\n",
       "      <td>2586511</td>\n",
       "    </tr>\n",
       "    <tr>\n",
       "      <th>8</th>\n",
       "      <td>9</td>\n",
       "      <td>[{'id': 256377, 'name': 'The Muppet Collection...</td>\n",
       "      <td>0</td>\n",
       "      <td>[{'id': 28, 'name': 'Action'}, {'id': 35, 'nam...</td>\n",
       "      <td>NaN</td>\n",
       "      <td>tt0117110</td>\n",
       "      <td>en</td>\n",
       "      <td>Muppet Treasure Island</td>\n",
       "      <td>After telling the story of Flint's last journe...</td>\n",
       "      <td>6.902423</td>\n",
       "      <td>...</td>\n",
       "      <td>2/16/96</td>\n",
       "      <td>100.0</td>\n",
       "      <td>[{'iso_639_1': 'en', 'name': 'English'}]</td>\n",
       "      <td>Released</td>\n",
       "      <td>Set sail for Muppet mayhem!</td>\n",
       "      <td>Muppet Treasure Island</td>\n",
       "      <td>[{'id': 2041, 'name': 'island'}, {'id': 4418, ...</td>\n",
       "      <td>[{'cast_id': 1, 'character': 'Long John Silver...</td>\n",
       "      <td>[{'credit_id': '52fe43c89251416c7501deb3', 'de...</td>\n",
       "      <td>34327391</td>\n",
       "    </tr>\n",
       "    <tr>\n",
       "      <th>11</th>\n",
       "      <td>12</td>\n",
       "      <td>[{'id': 48190, 'name': 'Revenge of the Nerds C...</td>\n",
       "      <td>0</td>\n",
       "      <td>[{'id': 35, 'name': 'Comedy'}]</td>\n",
       "      <td>NaN</td>\n",
       "      <td>tt0093857</td>\n",
       "      <td>en</td>\n",
       "      <td>Revenge of the Nerds II: Nerds in Paradise</td>\n",
       "      <td>The members of the Lambda Lambda Lambda frater...</td>\n",
       "      <td>10.543750</td>\n",
       "      <td>...</td>\n",
       "      <td>7/10/87</td>\n",
       "      <td>98.0</td>\n",
       "      <td>[{'iso_639_1': 'en', 'name': 'English'}]</td>\n",
       "      <td>Released</td>\n",
       "      <td>They're Back!</td>\n",
       "      <td>Revenge of the Nerds II: Nerds in Paradise</td>\n",
       "      <td>[{'id': 5801, 'name': 'nerd'}, {'id': 6876, 'n...</td>\n",
       "      <td>[{'cast_id': 2, 'character': 'Lewis Skolnick',...</td>\n",
       "      <td>[{'credit_id': '52fe46f49251416c750891e9', 'de...</td>\n",
       "      <td>22642033</td>\n",
       "    </tr>\n",
       "    <tr>\n",
       "      <th>17</th>\n",
       "      <td>18</td>\n",
       "      <td>NaN</td>\n",
       "      <td>0</td>\n",
       "      <td>[{'id': 18, 'name': 'Drama'}, {'id': 10749, 'n...</td>\n",
       "      <td>NaN</td>\n",
       "      <td>tt1700845</td>\n",
       "      <td>en</td>\n",
       "      <td>The Invisible Woman</td>\n",
       "      <td>In 1857, at the height of his fame and fortune...</td>\n",
       "      <td>4.183558</td>\n",
       "      <td>...</td>\n",
       "      <td>12/25/13</td>\n",
       "      <td>111.0</td>\n",
       "      <td>[{'iso_639_1': 'en', 'name': 'English'}]</td>\n",
       "      <td>Released</td>\n",
       "      <td>His greatest story was the one he could never ...</td>\n",
       "      <td>The Invisible Woman</td>\n",
       "      <td>[{'id': 5565, 'name': 'biography'}, {'id': 180...</td>\n",
       "      <td>[{'cast_id': 7, 'character': 'Charles Dickens'...</td>\n",
       "      <td>[{'credit_id': '53b94a260e0a2676c7009b37', 'de...</td>\n",
       "      <td>1234254</td>\n",
       "    </tr>\n",
       "  </tbody>\n",
       "</table>\n",
       "<p>5 rows × 23 columns</p>\n",
       "</div>"
      ],
      "text/plain": [
       "    id                              belongs_to_collection  budget  \\\n",
       "4    5                                                NaN       0   \n",
       "7    8                                                NaN       0   \n",
       "8    9  [{'id': 256377, 'name': 'The Muppet Collection...       0   \n",
       "11  12  [{'id': 48190, 'name': 'Revenge of the Nerds C...       0   \n",
       "17  18                                                NaN       0   \n",
       "\n",
       "                                               genres homepage    imdb_id  \\\n",
       "4   [{'id': 28, 'name': 'Action'}, {'id': 53, 'nam...      NaN  tt1380152   \n",
       "7                 [{'id': 99, 'name': 'Documentary'}]      NaN  tt0391024   \n",
       "8   [{'id': 28, 'name': 'Action'}, {'id': 35, 'nam...      NaN  tt0117110   \n",
       "11                     [{'id': 35, 'name': 'Comedy'}]      NaN  tt0093857   \n",
       "17  [{'id': 18, 'name': 'Drama'}, {'id': 10749, 'n...      NaN  tt1700845   \n",
       "\n",
       "   original_language                              original_title  \\\n",
       "4                 ko                                        마린보이   \n",
       "7                 en                                Control Room   \n",
       "8                 en                      Muppet Treasure Island   \n",
       "11                en  Revenge of the Nerds II: Nerds in Paradise   \n",
       "17                en                         The Invisible Woman   \n",
       "\n",
       "                                             overview  popularity  ...  \\\n",
       "4   Marine Boy is the story of a former national s...    1.148070  ...   \n",
       "7   A chronicle which provides a rare window into ...    1.949044  ...   \n",
       "8   After telling the story of Flint's last journe...    6.902423  ...   \n",
       "11  The members of the Lambda Lambda Lambda frater...   10.543750  ...   \n",
       "17  In 1857, at the height of his fame and fortune...    4.183558  ...   \n",
       "\n",
       "   release_date runtime                                   spoken_languages  \\\n",
       "4        2/5/09   118.0           [{'iso_639_1': 'ko', 'name': '한국어/조선말'}]   \n",
       "7       1/15/04    84.0  [{'iso_639_1': 'ar', 'name': 'العربية'}, {'iso...   \n",
       "8       2/16/96   100.0           [{'iso_639_1': 'en', 'name': 'English'}]   \n",
       "11      7/10/87    98.0           [{'iso_639_1': 'en', 'name': 'English'}]   \n",
       "17     12/25/13   111.0           [{'iso_639_1': 'en', 'name': 'English'}]   \n",
       "\n",
       "      status                                            tagline  \\\n",
       "4   Released                                                NaN   \n",
       "7   Released              Different channels. Different truths.   \n",
       "8   Released                        Set sail for Muppet mayhem!   \n",
       "11  Released                                      They're Back!   \n",
       "17  Released  His greatest story was the one he could never ...   \n",
       "\n",
       "                                         title  \\\n",
       "4                                   Marine Boy   \n",
       "7                                 Control Room   \n",
       "8                       Muppet Treasure Island   \n",
       "11  Revenge of the Nerds II: Nerds in Paradise   \n",
       "17                         The Invisible Woman   \n",
       "\n",
       "                                             Keywords  \\\n",
       "4                                                 NaN   \n",
       "7   [{'id': 917, 'name': 'journalism'}, {'id': 163...   \n",
       "8   [{'id': 2041, 'name': 'island'}, {'id': 4418, ...   \n",
       "11  [{'id': 5801, 'name': 'nerd'}, {'id': 6876, 'n...   \n",
       "17  [{'id': 5565, 'name': 'biography'}, {'id': 180...   \n",
       "\n",
       "                                                 cast  \\\n",
       "4   [{'cast_id': 3, 'character': 'Chun-soo', 'cred...   \n",
       "7   [{'cast_id': 2, 'character': 'Himself', 'credi...   \n",
       "8   [{'cast_id': 1, 'character': 'Long John Silver...   \n",
       "11  [{'cast_id': 2, 'character': 'Lewis Skolnick',...   \n",
       "17  [{'cast_id': 7, 'character': 'Charles Dickens'...   \n",
       "\n",
       "                                                 crew   revenue  \n",
       "4   [{'credit_id': '52fe464b9251416c75073b43', 'de...   3923970  \n",
       "7   [{'credit_id': '52fe47a69251416c750a0daf', 'de...   2586511  \n",
       "8   [{'credit_id': '52fe43c89251416c7501deb3', 'de...  34327391  \n",
       "11  [{'credit_id': '52fe46f49251416c750891e9', 'de...  22642033  \n",
       "17  [{'credit_id': '53b94a260e0a2676c7009b37', 'de...   1234254  \n",
       "\n",
       "[5 rows x 23 columns]"
      ]
     },
     "execution_count": 58,
     "metadata": {},
     "output_type": "execute_result"
    }
   ],
   "source": [
    "#checking for sanity in budget columns (outliers,vague values etc)\n",
    "df_new.describe()\n",
    "#budget of a movie in general cannot be 0 hence replacing those value with 0\n",
    "df_new[df_new['budget']==0].head(5)"
   ]
  },
  {
   "cell_type": "code",
   "execution_count": 59,
   "id": "2d4f9ce0",
   "metadata": {},
   "outputs": [
    {
     "data": {
      "text/plain": [
       "8000000.0"
      ]
     },
     "execution_count": 59,
     "metadata": {},
     "output_type": "execute_result"
    }
   ],
   "source": [
    "df_new['budget'].median()"
   ]
  },
  {
   "cell_type": "code",
   "execution_count": 60,
   "id": "f95da632",
   "metadata": {},
   "outputs": [],
   "source": [
    "#Replace extremely low values of budget and revenue column with median values of budget, revenue\n",
    "df_new.loc[df_new['budget']<1000,'budget']= df_new['budget'].median()\n",
    "\n",
    "df_new.loc[df_new['revenue']<1000,'revenue']= df_new['revenue'].median()\n"
   ]
  },
  {
   "cell_type": "code",
   "execution_count": 61,
   "id": "81fa234a",
   "metadata": {},
   "outputs": [
    {
     "data": {
      "text/html": [
       "<div>\n",
       "<style scoped>\n",
       "    .dataframe tbody tr th:only-of-type {\n",
       "        vertical-align: middle;\n",
       "    }\n",
       "\n",
       "    .dataframe tbody tr th {\n",
       "        vertical-align: top;\n",
       "    }\n",
       "\n",
       "    .dataframe thead th {\n",
       "        text-align: right;\n",
       "    }\n",
       "</style>\n",
       "<table border=\"1\" class=\"dataframe\">\n",
       "  <thead>\n",
       "    <tr style=\"text-align: right;\">\n",
       "      <th></th>\n",
       "      <th>id</th>\n",
       "      <th>budget</th>\n",
       "      <th>popularity</th>\n",
       "      <th>runtime</th>\n",
       "      <th>revenue</th>\n",
       "    </tr>\n",
       "  </thead>\n",
       "  <tbody>\n",
       "    <tr>\n",
       "      <th>count</th>\n",
       "      <td>3000.000000</td>\n",
       "      <td>3.000000e+03</td>\n",
       "      <td>3000.000000</td>\n",
       "      <td>2998.000000</td>\n",
       "      <td>3.000000e+03</td>\n",
       "    </tr>\n",
       "    <tr>\n",
       "      <th>mean</th>\n",
       "      <td>1500.500000</td>\n",
       "      <td>2.474467e+07</td>\n",
       "      <td>8.463274</td>\n",
       "      <td>107.856571</td>\n",
       "      <td>6.704518e+07</td>\n",
       "    </tr>\n",
       "    <tr>\n",
       "      <th>std</th>\n",
       "      <td>866.169729</td>\n",
       "      <td>3.583254e+07</td>\n",
       "      <td>12.104000</td>\n",
       "      <td>22.086434</td>\n",
       "      <td>1.373964e+08</td>\n",
       "    </tr>\n",
       "    <tr>\n",
       "      <th>min</th>\n",
       "      <td>1.000000</td>\n",
       "      <td>2.500000e+03</td>\n",
       "      <td>0.000001</td>\n",
       "      <td>0.000000</td>\n",
       "      <td>1.404000e+03</td>\n",
       "    </tr>\n",
       "    <tr>\n",
       "      <th>25%</th>\n",
       "      <td>750.750000</td>\n",
       "      <td>8.000000e+06</td>\n",
       "      <td>4.018053</td>\n",
       "      <td>94.000000</td>\n",
       "      <td>2.947600e+06</td>\n",
       "    </tr>\n",
       "    <tr>\n",
       "      <th>50%</th>\n",
       "      <td>1500.500000</td>\n",
       "      <td>8.000000e+06</td>\n",
       "      <td>7.374861</td>\n",
       "      <td>104.000000</td>\n",
       "      <td>1.680873e+07</td>\n",
       "    </tr>\n",
       "    <tr>\n",
       "      <th>75%</th>\n",
       "      <td>2250.250000</td>\n",
       "      <td>2.900000e+07</td>\n",
       "      <td>10.890983</td>\n",
       "      <td>118.000000</td>\n",
       "      <td>6.891920e+07</td>\n",
       "    </tr>\n",
       "    <tr>\n",
       "      <th>max</th>\n",
       "      <td>3000.000000</td>\n",
       "      <td>3.800000e+08</td>\n",
       "      <td>294.337037</td>\n",
       "      <td>338.000000</td>\n",
       "      <td>1.519558e+09</td>\n",
       "    </tr>\n",
       "  </tbody>\n",
       "</table>\n",
       "</div>"
      ],
      "text/plain": [
       "                id        budget   popularity      runtime       revenue\n",
       "count  3000.000000  3.000000e+03  3000.000000  2998.000000  3.000000e+03\n",
       "mean   1500.500000  2.474467e+07     8.463274   107.856571  6.704518e+07\n",
       "std     866.169729  3.583254e+07    12.104000    22.086434  1.373964e+08\n",
       "min       1.000000  2.500000e+03     0.000001     0.000000  1.404000e+03\n",
       "25%     750.750000  8.000000e+06     4.018053    94.000000  2.947600e+06\n",
       "50%    1500.500000  8.000000e+06     7.374861   104.000000  1.680873e+07\n",
       "75%    2250.250000  2.900000e+07    10.890983   118.000000  6.891920e+07\n",
       "max    3000.000000  3.800000e+08   294.337037   338.000000  1.519558e+09"
      ]
     },
     "execution_count": 61,
     "metadata": {},
     "output_type": "execute_result"
    }
   ],
   "source": [
    "df_new.describe()"
   ]
  },
  {
   "cell_type": "code",
   "execution_count": 62,
   "id": "1ed383b4",
   "metadata": {},
   "outputs": [
    {
     "data": {
      "text/plain": [
       "7"
      ]
     },
     "execution_count": 62,
     "metadata": {},
     "output_type": "execute_result"
    }
   ],
   "source": [
    "df_new['genres'].isnull().sum()"
   ]
  },
  {
   "cell_type": "code",
   "execution_count": 63,
   "id": "21ae3560",
   "metadata": {},
   "outputs": [
    {
     "data": {
      "text/plain": [
       "1316249360"
      ]
     },
     "execution_count": 63,
     "metadata": {},
     "output_type": "execute_result"
    }
   ],
   "source": [
    "#create profit and ROI column\n",
    "df_new['profit'] = df_new['revenue'] - df_new['budget']\n",
    "df_new['roi']= 100* (df_new['profit']/df_new['budget'])\n",
    "\n",
    "\n",
    "#maximum profit\n",
    "df_new['profit'].max()\n"
   ]
  },
  {
   "cell_type": "code",
   "execution_count": 69,
   "id": "1c399536",
   "metadata": {},
   "outputs": [
    {
     "data": {
      "text/plain": [
       "'Furious 7'"
      ]
     },
     "execution_count": 69,
     "metadata": {},
     "output_type": "execute_result"
    }
   ],
   "source": [
    "#find index or row which have the max profit using .idxmax()\n",
    "#.idxmax()-->> returns the row number(index) for the max value of the column\n",
    "df_new['profit'].idxmax()\n",
    "df_new.loc[df_new['profit'].idxmax(),'original_title']\n"
   ]
  },
  {
   "cell_type": "code",
   "execution_count": 70,
   "id": "df6605a6",
   "metadata": {},
   "outputs": [
    {
     "data": {
      "text/plain": [
       "[{'credit_id': '52fe4cc8c3a36847f823e681',\n",
       "  'department': 'Production',\n",
       "  'gender': 2,\n",
       "  'id': 12835,\n",
       "  'job': 'Producer',\n",
       "  'name': 'Vin Diesel',\n",
       "  'profile_path': '/7rwSXluNWZAluYMOEWBxkPmckES.jpg'},\n",
       " {'credit_id': '52fe4cc8c3a36847f823e687',\n",
       "  'department': 'Production',\n",
       "  'gender': 2,\n",
       "  'id': 11874,\n",
       "  'job': 'Producer',\n",
       "  'name': 'Neal H. Moritz',\n",
       "  'profile_path': '/cNcsEYmoS4niCz3UkVAA09dUIob.jpg'},\n",
       " {'credit_id': '52fe4cc8c3a36847f823e68d',\n",
       "  'department': 'Writing',\n",
       "  'gender': 2,\n",
       "  'id': 58191,\n",
       "  'job': 'Writer',\n",
       "  'name': 'Chris Morgan',\n",
       "  'profile_path': '/dUGxIwFBLrSFLImxjeda1krndMO.jpg'}]"
      ]
     },
     "execution_count": 70,
     "metadata": {},
     "output_type": "execute_result"
    }
   ],
   "source": [
    "max_profit_movie_df = df_new.iloc[df_new['profit'].idxmax()]\n",
    "max_profit_movie_df.head()\n",
    "max_profit_movie_df.loc['cast'][0]['name']\n",
    "crew_list= max_profit_movie_df.loc['crew']\n",
    "crew_list[0:3]"
   ]
  },
  {
   "cell_type": "code",
   "execution_count": 75,
   "id": "0c698742",
   "metadata": {},
   "outputs": [],
   "source": [
    "producer_list=[]\n",
    "director_list=[]\n",
    "for elem in crew_list:\n",
    "  if elem['job']=='Producer':\n",
    "    producer_list.append(elem['name'])\n",
    "  if elem['job']=='Director':\n",
    "    director_list.append(elem['name'])"
   ]
  },
  {
   "cell_type": "code",
   "execution_count": 76,
   "id": "fe4eb2cd",
   "metadata": {},
   "outputs": [
    {
     "name": "stdout",
     "output_type": "stream",
     "text": [
      "PRODUCERS : ['Vin Diesel', 'Neal H. Moritz', 'Michael Fottrell', 'Brandon Birtell']\n",
      "DIRECTORS : ['James Wan']\n"
     ]
    }
   ],
   "source": [
    "print(f'PRODUCERS : {producer_list}')\n",
    "print(f'DIRECTORS : {director_list}')"
   ]
  },
  {
   "cell_type": "code",
   "execution_count": null,
   "id": "37c6adf5",
   "metadata": {},
   "outputs": [],
   "source": []
  }
 ],
 "metadata": {
  "kernelspec": {
   "display_name": "Python 3 (ipykernel)",
   "language": "python",
   "name": "python3"
  },
  "language_info": {
   "codemirror_mode": {
    "name": "ipython",
    "version": 3
   },
   "file_extension": ".py",
   "mimetype": "text/x-python",
   "name": "python",
   "nbconvert_exporter": "python",
   "pygments_lexer": "ipython3",
   "version": "3.11.4"
  }
 },
 "nbformat": 4,
 "nbformat_minor": 5
}
